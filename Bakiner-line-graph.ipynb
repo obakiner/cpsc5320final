{
 "cells": [
  {
   "cell_type": "code",
   "execution_count": 2,
   "metadata": {},
   "outputs": [],
   "source": [
    "from pytrends.request import TrendReq\n",
    "import pandas as pd\n",
    "import matplotlib.pyplot as plt\n",
    "import numpy as np\n",
    "from datetime import datetime\n",
    "import chart_studio.plotly as py\n",
    "import plotly.graph_objects as go"
   ]
  },
  {
   "cell_type": "code",
   "execution_count": 2,
   "metadata": {},
   "outputs": [],
   "source": [
    "#pytrends = TrendReq(hl='en-US', tz=360)\n",
    "term = ['coronavirus']"
   ]
  },
  {
   "cell_type": "code",
   "execution_count": 18,
   "metadata": {},
   "outputs": [],
   "source": [
    "statelist = ['US-AL',\n",
    "'US-AK',\n",
    "'US-AZ',\n",
    "'US-AR',\n",
    "'US-CA',\n",
    "'US-CO',\n",
    "'US-CT',\n",
    "'US-DE',\n",
    "'US-FL',\n",
    "'US-GA',\n",
    "'US-HI',\n",
    "'US-ID',\n",
    "'US-IL',\n",
    "'US-IN',\n",
    "'US-IA',\n",
    "'US-KS',\n",
    "'US-KY',\n",
    "'US-LA',\n",
    "'US-ME',\n",
    "'US-MD',\n",
    "'US-MA',\n",
    "'US-MI',\n",
    "'US-MN',\n",
    "'US-MS',\n",
    "'US-MO',\n",
    "'US-MT',\n",
    "'US-NE',\n",
    "'US-NV',\n",
    "'US-NH',\n",
    "'US-NJ',\n",
    "'US-NM',\n",
    "'US-NY',\n",
    "'US-NC',\n",
    "'US-ND',\n",
    "'US-OH',\n",
    "'US-OK',\n",
    "'US-OR',\n",
    "'US-PA',\n",
    "'US-RI',\n",
    "'US-SC',\n",
    "'US-SD',\n",
    "'US-TN',\n",
    "'US-TX',\n",
    "'US-UT',\n",
    "'US-VT',\n",
    "'US-VA',\n",
    "'US-WA',\n",
    "'US-WV',\n",
    "'US-WI',\n",
    "'US-WY',\n",
    "'US-DC',\n",
    "'US-AS',\n",
    "'US-GU',\n",
    "'US-MP',\n",
    "'US-PR',\n",
    "'US-UM',\n",
    "'US-VI']"
   ]
  },
  {
   "cell_type": "code",
   "execution_count": 19,
   "metadata": {},
   "outputs": [
    {
     "name": "stdout",
     "output_type": "stream",
     "text": [
      "HTTPSConnectionPool(host='trends.google.com', port=443): Max retries exceeded with url: /trends/api/explore?hl=en-US&tz=360&req=%7B%22comparisonItem%22%3A+%5B%7B%22keyword%22%3A+%22coronavirus%22%2C+%22time%22%3A+%222019-12-08T00+2019-12-15T00%22%2C+%22geo%22%3A+%22US-MD%22%7D%5D%2C+%22category%22%3A+0%2C+%22property%22%3A+%22%22%7D (Caused by ConnectTimeoutError(<urllib3.connection.VerifiedHTTPSConnection object at 0x122f1ba10>, 'Connection to trends.google.com timed out. (connect timeout=2)'))\n",
      "HTTPSConnectionPool(host='trends.google.com', port=443): Max retries exceeded with url: /trends/api/explore?hl=en-US&tz=360&req=%7B%22comparisonItem%22%3A+%5B%7B%22keyword%22%3A+%22coronavirus%22%2C+%22time%22%3A+%222019-12-22T00+2019-12-29T00%22%2C+%22geo%22%3A+%22US-MD%22%7D%5D%2C+%22category%22%3A+0%2C+%22property%22%3A+%22%22%7D (Caused by ConnectTimeoutError(<urllib3.connection.VerifiedHTTPSConnection object at 0x12158fc10>, 'Connection to trends.google.com timed out. (connect timeout=2)'))\n",
      "HTTPSConnectionPool(host='trends.google.com', port=443): Max retries exceeded with url: /trends/api/explore?hl=en-US&tz=360&req=%7B%22comparisonItem%22%3A+%5B%7B%22keyword%22%3A+%22coronavirus%22%2C+%22time%22%3A+%222020-01-15T00+2020-01-22T00%22%2C+%22geo%22%3A+%22US-DC%22%7D%5D%2C+%22category%22%3A+0%2C+%22property%22%3A+%22%22%7D (Caused by ConnectTimeoutError(<urllib3.connection.VerifiedHTTPSConnection object at 0x122f00490>, 'Connection to trends.google.com timed out. (connect timeout=2)'))\n",
      "The request failed: Google returned a response with code 400.\n",
      "The request failed: Google returned a response with code 400.\n",
      "The request failed: Google returned a response with code 400.\n",
      "The request failed: Google returned a response with code 400.\n",
      "The request failed: Google returned a response with code 400.\n",
      "The request failed: Google returned a response with code 400.\n",
      "The request failed: Google returned a response with code 400.\n",
      "The request failed: Google returned a response with code 400.\n",
      "The request failed: Google returned a response with code 400.\n",
      "The request failed: Google returned a response with code 400.\n",
      "The request failed: Google returned a response with code 400.\n",
      "The request failed: Google returned a response with code 400.\n",
      "The request failed: Google returned a response with code 400.\n",
      "The request failed: Google returned a response with code 400.\n",
      "The request failed: Google returned a response with code 400.\n"
     ]
    },
    {
     "name": "stderr",
     "output_type": "stream",
     "text": [
      "/Users/bakinero/opt/anaconda3/lib/python3.7/site-packages/pandas/core/frame.py:7123: FutureWarning: Sorting because non-concatenation axis is not aligned. A future version\n",
      "of pandas will change to not sort by default.\n",
      "\n",
      "To accept the future behavior, pass 'sort=False'.\n",
      "\n",
      "To retain the current behavior and silence the warning, pass 'sort=True'.\n",
      "\n",
      "  sort=sort,\n"
     ]
    },
    {
     "name": "stdout",
     "output_type": "stream",
     "text": [
      "The request failed: Google returned a response with code 400.\n",
      "The request failed: Google returned a response with code 400.\n",
      "The request failed: Google returned a response with code 400.\n",
      "The request failed: Google returned a response with code 400.\n",
      "The request failed: Google returned a response with code 400.\n",
      "The request failed: Google returned a response with code 400.\n",
      "The request failed: Google returned a response with code 400.\n",
      "The request failed: Google returned a response with code 400.\n",
      "The request failed: Google returned a response with code 400.\n",
      "The request failed: Google returned a response with code 400.\n",
      "The request failed: Google returned a response with code 400.\n",
      "The request failed: Google returned a response with code 400.\n",
      "The request failed: Google returned a response with code 400.\n",
      "The request failed: Google returned a response with code 400.\n",
      "The request failed: Google returned a response with code 400.\n",
      "The request failed: Google returned a response with code 400.\n",
      "The request failed: Google returned a response with code 400.\n",
      "The request failed: Google returned a response with code 400.\n",
      "The request failed: Google returned a response with code 400.\n",
      "The request failed: Google returned a response with code 400.\n",
      "The request failed: Google returned a response with code 400.\n",
      "The request failed: Google returned a response with code 400.\n",
      "The request failed: Google returned a response with code 400.\n",
      "The request failed: Google returned a response with code 400.\n",
      "The request failed: Google returned a response with code 400.\n",
      "The request failed: Google returned a response with code 400.\n",
      "The request failed: Google returned a response with code 400.\n",
      "The request failed: Google returned a response with code 400.\n",
      "The request failed: Google returned a response with code 400.\n",
      "The request failed: Google returned a response with code 400.\n",
      "The request failed: Google returned a response with code 400.\n",
      "The request failed: Google returned a response with code 400.\n",
      "The request failed: Google returned a response with code 400.\n",
      "The request failed: Google returned a response with code 400.\n",
      "The request failed: Google returned a response with code 400.\n",
      "The request failed: Google returned a response with code 400.\n",
      "The request failed: Google returned a response with code 400.\n",
      "The request failed: Google returned a response with code 400.\n",
      "The request failed: Google returned a response with code 400.\n",
      "The request failed: Google returned a response with code 400.\n",
      "The request failed: Google returned a response with code 400.\n",
      "The request failed: Google returned a response with code 400.\n",
      "The request failed: Google returned a response with code 400.\n",
      "The request failed: Google returned a response with code 400.\n",
      "The request failed: Google returned a response with code 400.\n",
      "The request failed: Google returned a response with code 400.\n",
      "The request failed: Google returned a response with code 400.\n",
      "The request failed: Google returned a response with code 400.\n",
      "The request failed: Google returned a response with code 400.\n",
      "The request failed: Google returned a response with code 400.\n",
      "The request failed: Google returned a response with code 400.\n",
      "The request failed: Google returned a response with code 400.\n",
      "The request failed: Google returned a response with code 400.\n",
      "The request failed: Google returned a response with code 400.\n",
      "The request failed: Google returned a response with code 400.\n",
      "The request failed: Google returned a response with code 400.\n",
      "The request failed: Google returned a response with code 400.\n",
      "The request failed: Google returned a response with code 400.\n",
      "The request failed: Google returned a response with code 400.\n",
      "The request failed: Google returned a response with code 400.\n",
      "The request failed: Google returned a response with code 400.\n",
      "The request failed: Google returned a response with code 400.\n",
      "The request failed: Google returned a response with code 400.\n",
      "The request failed: Google returned a response with code 400.\n",
      "The request failed: Google returned a response with code 400.\n",
      "The request failed: Google returned a response with code 400.\n",
      "The request failed: Google returned a response with code 400.\n",
      "The request failed: Google returned a response with code 400.\n",
      "The request failed: Google returned a response with code 400.\n",
      "The request failed: Google returned a response with code 400.\n",
      "The request failed: Google returned a response with code 400.\n",
      "The request failed: Google returned a response with code 400.\n",
      "The request failed: Google returned a response with code 400.\n",
      "The request failed: Google returned a response with code 400.\n",
      "The request failed: Google returned a response with code 400.\n"
     ]
    }
   ],
   "source": [
    "#df = pd.DataFrame()\n",
    "#for elem in statelist: \n",
    "#    query_dec = pytrends.get_historical_interest(term, year_start=2019, month_start=12, day_start=1, hour_start=0, year_end=2019, month_end=12, day_end=31, hour_end=23, cat=0, geo=elem, gprop='', sleep=60)\n",
    "#    query_jan = pytrends.get_historical_interest(term, year_start=2020, month_start=1, day_start=1, hour_start=0, year_end=2020, month_end=1, day_end=31, hour_end=23, cat=0, geo=elem, gprop='', sleep=60)\n",
    "#    query_feb = pytrends.get_historical_interest(term, year_start=2020, month_start=2, day_start=1, hour_start=0, year_end=2020, month_end=2, day_end=29, hour_end=23, cat=0, geo=elem, gprop='', sleep=60)\n",
    "#    query = pd.concat([query_dec, query_jan, query_feb])\n",
    "#    query['state'] = elem\n",
    "#    filename = elem + '.csv'\n",
    "#    query.to_csv(filename)\n",
    "#    df = df.append(query)"
   ]
  },
  {
   "cell_type": "code",
   "execution_count": 3,
   "metadata": {},
   "outputs": [],
   "source": [
    "#df.to_csv('query_dataset.csv')\n",
    "#usa.to_csv('us_aggregate_dataset.csv')\n",
    "df = pd.read_csv('query_dataset.csv', dtype= {'results': int, 'state': str,'day': str, 'timestamp': str})\n",
    "usa = pd.read_csv('us_aggregate_dataset.csv', dtype = {'results': int, 'day': str,  'timestamp': str})\n",
    "\n",
    "usa.timestamp = usa.timestamp.map(lambda x: datetime.strptime(x, '%Y-%m-%d %H:%M:%S'))\n",
    "df.timestamp = df.timestamp.map(lambda x: datetime.strptime(x, '%Y-%m-%d %H:%M:%S'))"
   ]
  },
  {
   "cell_type": "code",
   "execution_count": 4,
   "metadata": {},
   "outputs": [],
   "source": [
    "#df = df.drop(columns = 'isPartial')\n",
    "#df = df.rename(columns = {'coronavirus': 'results'})\n",
    "#df = df.rename(columns = {'Unnamed: 0': 'timestamp'})\n",
    "#df.timestamp = df.timestamp.map(lambda x: pd.to_datetime(x))\n",
    "#df['day'] = None\n",
    "df['day'] = df.timestamp.map(lambda x: str(x.year) + str(x.month) + str(x.day)  if len(str(x.day)) > 1 else str(x.year) + str(x.month) + str(0) + str(x.day)) \n",
    "df['day'] = df.timestamp.map(lambda x: str(x.year) + str(x.month) + str(x.day)  if len(str(x.month)) > 1 else str(x.year) + str(0) + str(x.month) + str(x.day)) \n",
    "df.day = df.day.map(lambda x: x.replace('20','',1)[:2] + '/' + x[4:6] + '/' + x[6:8])"
   ]
  },
  {
   "cell_type": "code",
   "execution_count": 5,
   "metadata": {},
   "outputs": [],
   "source": [
    "#usa = pd.DataFrame()\n",
    "#usa['results'] = None\n",
    "#usa['results'] = df.groupby('timestamp').results.sum()\n",
    "#usa['timestamp'] = None\n",
    "#usa['timestamp'] = df.timestamp.unique()\n",
    "#usa['day'] = None\n",
    "usa['day'] = usa.timestamp.map(lambda x: str(x.year) + str(x.month) + str(x.day)  if len(str(x.day)) > 1 else str(x.year) + str(x.month) + str(0) + str(x.day))\n",
    "usa['day'] = usa.timestamp.map(lambda x: str(x.year) + str(x.month) + str(x.day)  if len(str(x.month)) > 1 else str(x.year)+ str(0) + str(x.month) + str(x.day))\n",
    "usa.day = usa.day.map(lambda x: x.replace('20','',1)[:2] + '/' + x[4:6] + '/' + x[6:8])"
   ]
  },
  {
   "cell_type": "code",
   "execution_count": 8,
   "metadata": {},
   "outputs": [
    {
     "data": {
      "image/png": "[encoded data removed]",
      "text/plain": [
       "<Figure size 1332x756 with 1 Axes>"
      ]
     },
     "metadata": {},
     "output_type": "display_data"
    }
   ],
   "source": [
    "# matplotlib graphs - feel free to ignore\n",
    "#title = 'Querying coronavirus on Google'\n",
    "\n",
    "#scale = usa.results.sum() / df[df.state == 'US-WA'].results.sum()\n",
    "#y1 = usa.groupby('day').results.sum() / scale\n",
    "#x1 = usa.day.unique()\n",
    "#name1 = 'USA - scaled down \\n' + str(int(scale)) + ' times'\n",
    "\n",
    "#y2 = df[df.state == 'US-WA'].groupby('day').results.sum()\n",
    "#x2 = df.day.unique()\n",
    "#name2 = 'WA'\n",
    "\n",
    "#y3 = df[df.state == 'US-CA'].groupby('day').results.sum()\n",
    "#x3 = df.day.unique()\n",
    "#name3 = 'CA'\n",
    "\n",
    "#fig, ax = plt.subplots()\n",
    "#ax.plot(x1, y1, color = 'black', label =  name1)  \n",
    "#ax.plot(x2, y2, color = 'purple', label =  name2)  \n",
    " \n",
    "#ymin, ymax = plt.ylim()\n",
    "#arrowprops = {'width': 1, 'headwidth': 1, 'headlength': 1, 'shrink':0.05 }\n",
    "\n",
    "#ax.annotate('First case in Wuhan, China', xy=('19/12/31', ymin), xytext=(10, 125), textcoords='offset points',\n",
    "#             rotation=90, va='bottom', ha='center', annotation_clip=False, arrowprops=arrowprops)\n",
    "\n",
    "#ax.annotate('First case in WA, USA', xy=('20/01/21', ymin), xytext=(10, 25), textcoords='offset points',\n",
    "#             rotation=90, va='bottom', ha='center', annotation_clip=False, arrowprops=arrowprops)\n",
    "\n",
    "#ax.annotate('First death in WA, USA', xy=('20/02/29', ymin), xytext=(10, 25), textcoords='offset points',\n",
    "#             rotation=90, va='bottom', ha='center', annotation_clip=False, arrowprops=arrowprops)\n",
    "\n",
    "#ax.set(xlabel = 'Day', ylabel= '# of queries', title = title)\n",
    "#ax.legend()    \n",
    "#ax.grid()\n",
    "#fig.set_size_inches(18.5, 10.5)\n",
    "#plt.style.use('fivethirtyeight')\n",
    "#ax.set_xticks(['19/12/1', '19/12/8','19/12/15','19/12/22','19/12/29','20/01/6','20/01/13', '20/01/20', '20/01/27', \n",
    "#               '20/02/3', '20/02/10', '20/02/17', '20/02/24'])\n",
    "#plt.xticks(rotation=45)\n",
    "#plt.show()"
   ]
  },
  {
   "cell_type": "code",
   "execution_count": 49,
   "metadata": {},
   "outputs": [
    {
     "data": {
      "application/vnd.plotly.v1+json": {
       "config": {
        "plotlyServerURL": "https://plot.ly"
       },
       "data": [
        {
         "marker": {
          "color": "Purple"
         },
         "name": "WA",
         "type": "scatter",
         "x": [
          "19/12/1",
          "19/12/2",
          "19/12/3",
          "19/12/4",
          "19/12/5",
          "19/12/6",
          "19/12/7",
          "19/12/8",
          "19/12/9",
          "19/12/10",
          "19/12/11",
          "19/12/12",
          "19/12/13",
          "19/12/14",
          "19/12/15",
          "19/12/16",
          "19/12/17",
          "19/12/18",
          "19/12/19",
          "19/12/20",
          "19/12/21",
          "19/12/22",
          "19/12/23",
          "19/12/24",
          "19/12/25",
          "19/12/26",
          "19/12/27",
          "19/12/28",
          "19/12/29",
          "19/12/30",
          "19/12/31",
          "20/01/1",
          "20/01/2",
          "20/01/3",
          "20/01/4",
          "20/01/5",
          "20/01/6",
          "20/01/7",
          "20/01/8",
          "20/01/9",
          "20/01/10",
          "20/01/11",
          "20/01/12",
          "20/01/13",
          "20/01/14",
          "20/01/15",
          "20/01/16",
          "20/01/17",
          "20/01/18",
          "20/01/19",
          "20/01/20",
          "20/01/21",
          "20/01/22",
          "20/01/23",
          "20/01/24",
          "20/01/25",
          "20/01/26",
          "20/01/27",
          "20/01/28",
          "20/01/29",
          "20/01/30",
          "20/01/31",
          "20/02/1",
          "20/02/2",
          "20/02/3",
          "20/02/4",
          "20/02/5",
          "20/02/6",
          "20/02/7",
          "20/02/8",
          "20/02/9",
          "20/02/10",
          "20/02/11",
          "20/02/12",
          "20/02/13",
          "20/02/14",
          "20/02/15",
          "20/02/16",
          "20/02/17",
          "20/02/18",
          "20/02/19",
          "20/02/20",
          "20/02/21",
          "20/02/22",
          "20/02/23",
          "20/02/24",
          "20/02/25",
          "20/02/26",
          "20/02/27",
          "20/02/28",
          "20/02/29"
         ],
         "y": [
          197,
          340,
          147,
          178,
          164,
          43,
          184,
          244,
          148,
          149,
          272,
          126,
          280,
          174,
          337,
          219,
          379,
          154,
          244,
          227,
          279,
          166,
          113,
          222,
          123,
          333,
          123,
          308,
          174,
          66,
          267,
          357,
          547,
          684,
          866,
          490,
          658,
          10,
          3,
          4,
          19,
          9,
          143,
          41,
          484,
          1123,
          734,
          1017,
          1236,
          1468,
          1683,
          1788,
          1669,
          334,
          1628,
          1759,
          287,
          500,
          458,
          378,
          322,
          773,
          1940,
          1540,
          1536,
          1337,
          1531,
          1281,
          1540,
          1403,
          1513,
          1538,
          1358,
          1665,
          1624,
          1517,
          1162,
          1222,
          760,
          0,
          0,
          0,
          0,
          0,
          1639,
          1452,
          1336,
          1359,
          1511,
          1717,
          1494
         ]
        },
        {
         "marker": {
          "color": "Blue"
         },
         "name": "CA",
         "type": "scatter",
         "x": [
          "19/12/1",
          "19/12/2",
          "19/12/3",
          "19/12/4",
          "19/12/5",
          "19/12/6",
          "19/12/7",
          "19/12/8",
          "19/12/9",
          "19/12/10",
          "19/12/11",
          "19/12/12",
          "19/12/13",
          "19/12/14",
          "19/12/15",
          "19/12/16",
          "19/12/17",
          "19/12/18",
          "19/12/19",
          "19/12/20",
          "19/12/21",
          "19/12/22",
          "19/12/23",
          "19/12/24",
          "19/12/25",
          "19/12/26",
          "19/12/27",
          "19/12/28",
          "19/12/29",
          "19/12/30",
          "19/12/31",
          "20/01/1",
          "20/01/2",
          "20/01/3",
          "20/01/4",
          "20/01/5",
          "20/01/6",
          "20/01/7",
          "20/01/8",
          "20/01/9",
          "20/01/10",
          "20/01/11",
          "20/01/12",
          "20/01/13",
          "20/01/14",
          "20/01/15",
          "20/01/16",
          "20/01/17",
          "20/01/18",
          "20/01/19",
          "20/01/20",
          "20/01/21",
          "20/01/22",
          "20/01/23",
          "20/01/24",
          "20/01/25",
          "20/01/26",
          "20/01/27",
          "20/01/28",
          "20/01/29",
          "20/01/30",
          "20/01/31",
          "20/02/1",
          "20/02/2",
          "20/02/3",
          "20/02/4",
          "20/02/5",
          "20/02/6",
          "20/02/7",
          "20/02/8",
          "20/02/9",
          "20/02/10",
          "20/02/11",
          "20/02/12",
          "20/02/13",
          "20/02/14",
          "20/02/15",
          "20/02/16",
          "20/02/17",
          "20/02/18",
          "20/02/19",
          "20/02/20",
          "20/02/21",
          "20/02/22",
          "20/02/23",
          "20/02/24",
          "20/02/25",
          "20/02/26",
          "20/02/27",
          "20/02/28",
          "20/02/29"
         ],
         "y": [
          489,
          397,
          301,
          237,
          262,
          318,
          556,
          544,
          493,
          766,
          662,
          314,
          602,
          495,
          358,
          303,
          460,
          265,
          411,
          496,
          592,
          490,
          365,
          498,
          383,
          310,
          438,
          457,
          643,
          211,
          250,
          258,
          504,
          633,
          747,
          608,
          632,
          21,
          25,
          39,
          93,
          55,
          735,
          155,
          758,
          389,
          429,
          715,
          880,
          1491,
          1361,
          1571,
          1764,
          819,
          1580,
          1570,
          775,
          544,
          618,
          645,
          231,
          813,
          1838,
          1442,
          1593,
          1272,
          1414,
          1162,
          1691,
          1526,
          1596,
          1547,
          1397,
          1439,
          1279,
          1489,
          1465,
          1506,
          895,
          0,
          0,
          0,
          0,
          0,
          1435,
          1220,
          1114,
          1085,
          1186,
          1813,
          1502
         ]
        },
        {
         "marker": {
          "color": "Green"
         },
         "name": "NY",
         "type": "scatter",
         "x": [
          "19/12/1",
          "19/12/2",
          "19/12/3",
          "19/12/4",
          "19/12/5",
          "19/12/6",
          "19/12/7",
          "19/12/8",
          "19/12/9",
          "19/12/10",
          "19/12/11",
          "19/12/12",
          "19/12/13",
          "19/12/14",
          "19/12/15",
          "19/12/16",
          "19/12/17",
          "19/12/18",
          "19/12/19",
          "19/12/20",
          "19/12/21",
          "19/12/22",
          "19/12/23",
          "19/12/24",
          "19/12/25",
          "19/12/26",
          "19/12/27",
          "19/12/28",
          "19/12/29",
          "19/12/30",
          "19/12/31",
          "20/01/1",
          "20/01/2",
          "20/01/3",
          "20/01/4",
          "20/01/5",
          "20/01/6",
          "20/01/7",
          "20/01/8",
          "20/01/9",
          "20/01/10",
          "20/01/11",
          "20/01/12",
          "20/01/13",
          "20/01/14",
          "20/01/15",
          "20/01/16",
          "20/01/17",
          "20/01/18",
          "20/01/19",
          "20/01/20",
          "20/01/21",
          "20/01/22",
          "20/01/23",
          "20/01/24",
          "20/01/25",
          "20/01/26",
          "20/01/27",
          "20/01/28",
          "20/01/29",
          "20/01/30",
          "20/01/31",
          "20/02/1",
          "20/02/2",
          "20/02/3",
          "20/02/4",
          "20/02/5",
          "20/02/6",
          "20/02/7",
          "20/02/8",
          "20/02/9",
          "20/02/10",
          "20/02/11",
          "20/02/12",
          "20/02/13",
          "20/02/14",
          "20/02/15",
          "20/02/16",
          "20/02/17",
          "20/02/18",
          "20/02/19",
          "20/02/20",
          "20/02/21",
          "20/02/22",
          "20/02/23",
          "20/02/24",
          "20/02/25",
          "20/02/26",
          "20/02/27",
          "20/02/28",
          "20/02/29"
         ],
         "y": [
          249,
          299,
          500,
          486,
          504,
          388,
          288,
          261,
          342,
          715,
          482,
          113,
          564,
          478,
          452,
          369,
          496,
          224,
          446,
          387,
          660,
          424,
          253,
          330,
          384,
          329,
          445,
          433,
          362,
          267,
          229,
          412,
          419,
          673,
          671,
          621,
          571,
          13,
          11,
          26,
          50,
          27,
          452,
          113,
          654,
          514,
          547,
          925,
          1386,
          1481,
          1632,
          1951,
          1653,
          419,
          1583,
          1573,
          581,
          321,
          601,
          531,
          288,
          901,
          1437,
          1664,
          1636,
          1354,
          1490,
          1192,
          1190,
          1408,
          1394,
          1494,
          1379,
          1667,
          1193,
          1258,
          871,
          1165,
          800,
          0,
          0,
          0,
          0,
          0,
          1541,
          1326,
          1083,
          1039,
          1121,
          1613,
          1655
         ]
        },
        {
         "marker": {
          "color": "Black"
         },
         "name": "USA",
         "type": "scatter",
         "x": [
          "19/12/1",
          "19/12/2",
          "19/12/3",
          "19/12/4",
          "19/12/5",
          "19/12/6",
          "19/12/7",
          "19/12/8",
          "19/12/9",
          "19/12/10",
          "19/12/11",
          "19/12/12",
          "19/12/13",
          "19/12/14",
          "19/12/15",
          "19/12/16",
          "19/12/17",
          "19/12/18",
          "19/12/19",
          "19/12/20",
          "19/12/21",
          "19/12/22",
          "19/12/23",
          "19/12/24",
          "19/12/25",
          "19/12/26",
          "19/12/27",
          "19/12/28",
          "19/12/29",
          "19/12/30",
          "19/12/31",
          "20/01/1",
          "20/01/2",
          "20/01/3",
          "20/01/4",
          "20/01/5",
          "20/01/6",
          "20/01/7",
          "20/01/8",
          "20/01/9",
          "20/01/10",
          "20/01/11",
          "20/01/12",
          "20/01/13",
          "20/01/14",
          "20/01/15",
          "20/01/16",
          "20/01/17",
          "20/01/18",
          "20/01/19",
          "20/01/20",
          "20/01/21",
          "20/01/22",
          "20/01/23",
          "20/01/24",
          "20/01/25",
          "20/01/26",
          "20/01/27",
          "20/01/28",
          "20/01/29",
          "20/01/30",
          "20/01/31",
          "20/02/1",
          "20/02/2",
          "20/02/3",
          "20/02/4",
          "20/02/5",
          "20/02/6",
          "20/02/7",
          "20/02/8",
          "20/02/9",
          "20/02/10",
          "20/02/11",
          "20/02/12",
          "20/02/13",
          "20/02/14",
          "20/02/15",
          "20/02/16",
          "20/02/17",
          "20/02/18",
          "20/02/19",
          "20/02/20",
          "20/02/21",
          "20/02/22",
          "20/02/23",
          "20/02/24",
          "20/02/25",
          "20/02/26",
          "20/02/27",
          "20/02/28",
          "20/02/29"
         ],
         "y": [
          118.2161884572405,
          182.8854650328965,
          201.96243232462666,
          195.36879418320456,
          191.89598832935945,
          136.9411821827026,
          143.48789051528894,
          164.30126073394166,
          211.18413976085046,
          201.04730105232963,
          236.7843504807491,
          127.48482570230006,
          230.70694023652018,
          206.93699206121556,
          150.50389693623276,
          186.6867795485918,
          218.71637407898746,
          122.34601163478604,
          199.0527841768105,
          252.31811720538056,
          260.319649611875,
          253.77294127928863,
          150.26924789205404,
          263.628201134795,
          268.2507873051158,
          171.41112677255697,
          159.279771188517,
          188.0477440048284,
          168.0087156319655,
          138.32561154335704,
          160.17143755639614,
          172.138538809511,
          339.32598278685094,
          487.6007138033858,
          474.9296654177348,
          416.1266149465469,
          432.0592850462822,
          18.114906210597393,
          18.2791605415225,
          28.814902625147152,
          54.57936767597091,
          37.56731197301351,
          253.11592395558822,
          154.0236325989136,
          791.0488577353101,
          597.8622996629676,
          592.277652411514,
          1176.0844743281762,
          1443.3262707433234,
          1602.699901549512,
          1710.4976724452172,
          1880.5009049527018,
          1901.8305030685478,
          298.61437362184256,
          1813.766716788273,
          1774.0406336088154,
          284.1834574048511,
          242.86176072497804,
          281.1564847349456,
          291.7860864362417,
          234.32053551687252,
          556.0713048947372,
          1995.8074452621263,
          1627.9716036075604,
          1669.1525108609262,
          1443.8894284493524,
          1636.536293720084,
          1348.08222371118,
          1662.019179917893,
          1569.3093425628797,
          1710.4272777319636,
          1656.1294889090073,
          1471.8595945154561,
          1793.1645307093813,
          1351.8366084180395,
          1395.7863743927144,
          1322.763591844296,
          1465.9229736977345,
          941.9751229510646,
          0,
          0,
          0,
          0,
          0,
          1552.907374374787,
          1377.8122576086241,
          1275.9745724350585,
          1362.5131399281713,
          1498.7973047871735,
          1895.8469524419902,
          1580.5959615878762
         ]
        }
       ],
       "layout": {
        "annotations": [
         {
          "align": "left",
          "font": {
           "family": "Courier New, monospace",
           "size": 12
          },
          "showarrow": true,
          "text": "First case in Wuhan, China",
          "textangle": -45,
          "x": "19/12/31",
          "y": 1,
          "yref": "paper"
         },
         {
          "align": "left",
          "font": {
           "family": "Courier New, monospace",
           "size": 12
          },
          "showarrow": true,
          "text": "First case in WA, USA",
          "textangle": -45,
          "x": "20/01/21",
          "y": 1,
          "yref": "paper"
         },
         {
          "align": "left",
          "font": {
           "family": "Courier New, monospace",
           "size": 12
          },
          "showarrow": true,
          "text": "First death in WA, USA",
          "textangle": -45,
          "x": "20/02/29",
          "y": 1,
          "yref": "paper"
         }
        ],
        "showlegend": true,
        "template": {
         "data": {
          "bar": [
           {
            "error_x": {
             "color": "#2a3f5f"
            },
            "error_y": {
             "color": "#2a3f5f"
            },
            "marker": {
             "line": {
              "color": "#E5ECF6",
              "width": 0.5
             }
            },
            "type": "bar"
           }
          ],
          "barpolar": [
           {
            "marker": {
             "line": {
              "color": "#E5ECF6",
              "width": 0.5
             }
            },
            "type": "barpolar"
           }
          ],
          "carpet": [
           {
            "aaxis": {
             "endlinecolor": "#2a3f5f",
             "gridcolor": "white",
             "linecolor": "white",
             "minorgridcolor": "white",
             "startlinecolor": "#2a3f5f"
            },
            "baxis": {
             "endlinecolor": "#2a3f5f",
             "gridcolor": "white",
             "linecolor": "white",
             "minorgridcolor": "white",
             "startlinecolor": "#2a3f5f"
            },
            "type": "carpet"
           }
          ],
          "choropleth": [
           {
            "colorbar": {
             "outlinewidth": 0,
             "ticks": ""
            },
            "type": "choropleth"
           }
          ],
          "contour": [
           {
            "colorbar": {
             "outlinewidth": 0,
             "ticks": ""
            },
            "colorscale": [
             [
              0,
              "#0d0887"
             ],
             [
              0.1111111111111111,
              "#46039f"
             ],
             [
              0.2222222222222222,
              "#7201a8"
             ],
             [
              0.3333333333333333,
              "#9c179e"
             ],
             [
              0.4444444444444444,
              "#bd3786"
             ],
             [
              0.5555555555555556,
              "#d8576b"
             ],
             [
              0.6666666666666666,
              "#ed7953"
             ],
             [
              0.7777777777777778,
              "#fb9f3a"
             ],
             [
              0.8888888888888888,
              "#fdca26"
             ],
             [
              1,
              "#f0f921"
             ]
            ],
            "type": "contour"
           }
          ],
          "contourcarpet": [
           {
            "colorbar": {
             "outlinewidth": 0,
             "ticks": ""
            },
            "type": "contourcarpet"
           }
          ],
          "heatmap": [
           {
            "colorbar": {
             "outlinewidth": 0,
             "ticks": ""
            },
            "colorscale": [
             [
              0,
              "#0d0887"
             ],
             [
              0.1111111111111111,
              "#46039f"
             ],
             [
              0.2222222222222222,
              "#7201a8"
             ],
             [
              0.3333333333333333,
              "#9c179e"
             ],
             [
              0.4444444444444444,
              "#bd3786"
             ],
             [
              0.5555555555555556,
              "#d8576b"
             ],
             [
              0.6666666666666666,
              "#ed7953"
             ],
             [
              0.7777777777777778,
              "#fb9f3a"
             ],
             [
              0.8888888888888888,
              "#fdca26"
             ],
             [
              1,
              "#f0f921"
             ]
            ],
            "type": "heatmap"
           }
          ],
          "heatmapgl": [
           {
            "colorbar": {
             "outlinewidth": 0,
             "ticks": ""
            },
            "colorscale": [
             [
              0,
              "#0d0887"
             ],
             [
              0.1111111111111111,
              "#46039f"
             ],
             [
              0.2222222222222222,
              "#7201a8"
             ],
             [
              0.3333333333333333,
              "#9c179e"
             ],
             [
              0.4444444444444444,
              "#bd3786"
             ],
             [
              0.5555555555555556,
              "#d8576b"
             ],
             [
              0.6666666666666666,
              "#ed7953"
             ],
             [
              0.7777777777777778,
              "#fb9f3a"
             ],
             [
              0.8888888888888888,
              "#fdca26"
             ],
             [
              1,
              "#f0f921"
             ]
            ],
            "type": "heatmapgl"
           }
          ],
          "histogram": [
           {
            "marker": {
             "colorbar": {
              "outlinewidth": 0,
              "ticks": ""
             }
            },
            "type": "histogram"
           }
          ],
          "histogram2d": [
           {
            "colorbar": {
             "outlinewidth": 0,
             "ticks": ""
            },
            "colorscale": [
             [
              0,
              "#0d0887"
             ],
             [
              0.1111111111111111,
              "#46039f"
             ],
             [
              0.2222222222222222,
              "#7201a8"
             ],
             [
              0.3333333333333333,
              "#9c179e"
             ],
             [
              0.4444444444444444,
              "#bd3786"
             ],
             [
              0.5555555555555556,
              "#d8576b"
             ],
             [
              0.6666666666666666,
              "#ed7953"
             ],
             [
              0.7777777777777778,
              "#fb9f3a"
             ],
             [
              0.8888888888888888,
              "#fdca26"
             ],
             [
              1,
              "#f0f921"
             ]
            ],
            "type": "histogram2d"
           }
          ],
          "histogram2dcontour": [
           {
            "colorbar": {
             "outlinewidth": 0,
             "ticks": ""
            },
            "colorscale": [
             [
              0,
              "#0d0887"
             ],
             [
              0.1111111111111111,
              "#46039f"
             ],
             [
              0.2222222222222222,
              "#7201a8"
             ],
             [
              0.3333333333333333,
              "#9c179e"
             ],
             [
              0.4444444444444444,
              "#bd3786"
             ],
             [
              0.5555555555555556,
              "#d8576b"
             ],
             [
              0.6666666666666666,
              "#ed7953"
             ],
             [
              0.7777777777777778,
              "#fb9f3a"
             ],
             [
              0.8888888888888888,
              "#fdca26"
             ],
             [
              1,
              "#f0f921"
             ]
            ],
            "type": "histogram2dcontour"
           }
          ],
          "mesh3d": [
           {
            "colorbar": {
             "outlinewidth": 0,
             "ticks": ""
            },
            "type": "mesh3d"
           }
          ],
          "parcoords": [
           {
            "line": {
             "colorbar": {
              "outlinewidth": 0,
              "ticks": ""
             }
            },
            "type": "parcoords"
           }
          ],
          "pie": [
           {
            "automargin": true,
            "type": "pie"
           }
          ],
          "scatter": [
           {
            "marker": {
             "colorbar": {
              "outlinewidth": 0,
              "ticks": ""
             }
            },
            "type": "scatter"
           }
          ],
          "scatter3d": [
           {
            "line": {
             "colorbar": {
              "outlinewidth": 0,
              "ticks": ""
             }
            },
            "marker": {
             "colorbar": {
              "outlinewidth": 0,
              "ticks": ""
             }
            },
            "type": "scatter3d"
           }
          ],
          "scattercarpet": [
           {
            "marker": {
             "colorbar": {
              "outlinewidth": 0,
              "ticks": ""
             }
            },
            "type": "scattercarpet"
           }
          ],
          "scattergeo": [
           {
            "marker": {
             "colorbar": {
              "outlinewidth": 0,
              "ticks": ""
             }
            },
            "type": "scattergeo"
           }
          ],
          "scattergl": [
           {
            "marker": {
             "colorbar": {
              "outlinewidth": 0,
              "ticks": ""
             }
            },
            "type": "scattergl"
           }
          ],
          "scattermapbox": [
           {
            "marker": {
             "colorbar": {
              "outlinewidth": 0,
              "ticks": ""
             }
            },
            "type": "scattermapbox"
           }
          ],
          "scatterpolar": [
           {
            "marker": {
             "colorbar": {
              "outlinewidth": 0,
              "ticks": ""
             }
            },
            "type": "scatterpolar"
           }
          ],
          "scatterpolargl": [
           {
            "marker": {
             "colorbar": {
              "outlinewidth": 0,
              "ticks": ""
             }
            },
            "type": "scatterpolargl"
           }
          ],
          "scatterternary": [
           {
            "marker": {
             "colorbar": {
              "outlinewidth": 0,
              "ticks": ""
             }
            },
            "type": "scatterternary"
           }
          ],
          "surface": [
           {
            "colorbar": {
             "outlinewidth": 0,
             "ticks": ""
            },
            "colorscale": [
             [
              0,
              "#0d0887"
             ],
             [
              0.1111111111111111,
              "#46039f"
             ],
             [
              0.2222222222222222,
              "#7201a8"
             ],
             [
              0.3333333333333333,
              "#9c179e"
             ],
             [
              0.4444444444444444,
              "#bd3786"
             ],
             [
              0.5555555555555556,
              "#d8576b"
             ],
             [
              0.6666666666666666,
              "#ed7953"
             ],
             [
              0.7777777777777778,
              "#fb9f3a"
             ],
             [
              0.8888888888888888,
              "#fdca26"
             ],
             [
              1,
              "#f0f921"
             ]
            ],
            "type": "surface"
           }
          ],
          "table": [
           {
            "cells": {
             "fill": {
              "color": "#EBF0F8"
             },
             "line": {
              "color": "white"
             }
            },
            "header": {
             "fill": {
              "color": "#C8D4E3"
             },
             "line": {
              "color": "white"
             }
            },
            "type": "table"
           }
          ]
         },
         "layout": {
          "annotationdefaults": {
           "arrowcolor": "#2a3f5f",
           "arrowhead": 0,
           "arrowwidth": 1
          },
          "coloraxis": {
           "colorbar": {
            "outlinewidth": 0,
            "ticks": ""
           }
          },
          "colorscale": {
           "diverging": [
            [
             0,
             "#8e0152"
            ],
            [
             0.1,
             "#c51b7d"
            ],
            [
             0.2,
             "#de77ae"
            ],
            [
             0.3,
             "#f1b6da"
            ],
            [
             0.4,
             "#fde0ef"
            ],
            [
             0.5,
             "#f7f7f7"
            ],
            [
             0.6,
             "#e6f5d0"
            ],
            [
             0.7,
             "#b8e186"
            ],
            [
             0.8,
             "#7fbc41"
            ],
            [
             0.9,
             "#4d9221"
            ],
            [
             1,
             "#276419"
            ]
           ],
           "sequential": [
            [
             0,
             "#0d0887"
            ],
            [
             0.1111111111111111,
             "#46039f"
            ],
            [
             0.2222222222222222,
             "#7201a8"
            ],
            [
             0.3333333333333333,
             "#9c179e"
            ],
            [
             0.4444444444444444,
             "#bd3786"
            ],
            [
             0.5555555555555556,
             "#d8576b"
            ],
            [
             0.6666666666666666,
             "#ed7953"
            ],
            [
             0.7777777777777778,
             "#fb9f3a"
            ],
            [
             0.8888888888888888,
             "#fdca26"
            ],
            [
             1,
             "#f0f921"
            ]
           ],
           "sequentialminus": [
            [
             0,
             "#0d0887"
            ],
            [
             0.1111111111111111,
             "#46039f"
            ],
            [
             0.2222222222222222,
             "#7201a8"
            ],
            [
             0.3333333333333333,
             "#9c179e"
            ],
            [
             0.4444444444444444,
             "#bd3786"
            ],
            [
             0.5555555555555556,
             "#d8576b"
            ],
            [
             0.6666666666666666,
             "#ed7953"
            ],
            [
             0.7777777777777778,
             "#fb9f3a"
            ],
            [
             0.8888888888888888,
             "#fdca26"
            ],
            [
             1,
             "#f0f921"
            ]
           ]
          },
          "colorway": [
           "#636efa",
           "#EF553B",
           "#00cc96",
           "#ab63fa",
           "#FFA15A",
           "#19d3f3",
           "#FF6692",
           "#B6E880",
           "#FF97FF",
           "#FECB52"
          ],
          "font": {
           "color": "#2a3f5f"
          },
          "geo": {
           "bgcolor": "white",
           "lakecolor": "white",
           "landcolor": "#E5ECF6",
           "showlakes": true,
           "showland": true,
           "subunitcolor": "white"
          },
          "hoverlabel": {
           "align": "left"
          },
          "hovermode": "closest",
          "mapbox": {
           "style": "light"
          },
          "paper_bgcolor": "white",
          "plot_bgcolor": "#E5ECF6",
          "polar": {
           "angularaxis": {
            "gridcolor": "white",
            "linecolor": "white",
            "ticks": ""
           },
           "bgcolor": "#E5ECF6",
           "radialaxis": {
            "gridcolor": "white",
            "linecolor": "white",
            "ticks": ""
           }
          },
          "scene": {
           "xaxis": {
            "backgroundcolor": "#E5ECF6",
            "gridcolor": "white",
            "gridwidth": 2,
            "linecolor": "white",
            "showbackground": true,
            "ticks": "",
            "zerolinecolor": "white"
           },
           "yaxis": {
            "backgroundcolor": "#E5ECF6",
            "gridcolor": "white",
            "gridwidth": 2,
            "linecolor": "white",
            "showbackground": true,
            "ticks": "",
            "zerolinecolor": "white"
           },
           "zaxis": {
            "backgroundcolor": "#E5ECF6",
            "gridcolor": "white",
            "gridwidth": 2,
            "linecolor": "white",
            "showbackground": true,
            "ticks": "",
            "zerolinecolor": "white"
           }
          },
          "shapedefaults": {
           "line": {
            "color": "#2a3f5f"
           }
          },
          "ternary": {
           "aaxis": {
            "gridcolor": "white",
            "linecolor": "white",
            "ticks": ""
           },
           "baxis": {
            "gridcolor": "white",
            "linecolor": "white",
            "ticks": ""
           },
           "bgcolor": "#E5ECF6",
           "caxis": {
            "gridcolor": "white",
            "linecolor": "white",
            "ticks": ""
           }
          },
          "title": {
           "x": 0.05
          },
          "xaxis": {
           "automargin": true,
           "gridcolor": "white",
           "linecolor": "white",
           "ticks": "",
           "title": {
            "standoff": 15
           },
           "zerolinecolor": "white",
           "zerolinewidth": 2
          },
          "yaxis": {
           "automargin": true,
           "gridcolor": "white",
           "linecolor": "white",
           "ticks": "",
           "title": {
            "standoff": 15
           },
           "zerolinecolor": "white",
           "zerolinewidth": 2
          }
         }
        },
        "title": {
         "text": "Coronavirus search on Google"
        },
        "updatemenus": [
         {
          "buttons": [
           {
            "args": [
             {
              "visible": [
               false,
               false,
               false,
               true
              ]
             },
             {
              "title": "Search results in all US"
             }
            ],
            "label": "All USA",
            "method": "update"
           },
           {
            "args": [
             {
              "visible": [
               true,
               false,
               false,
               false
              ]
             },
             {
              "title": "Search results in WA"
             }
            ],
            "label": "WA",
            "method": "update"
           },
           {
            "args": [
             {
              "visible": [
               false,
               true,
               false,
               false
              ]
             },
             {
              "title": "Search results in CA"
             }
            ],
            "label": "CA",
            "method": "update"
           },
           {
            "args": [
             {
              "visible": [
               false,
               false,
               true,
               false
              ]
             },
             {
              "title": "Search results in NY"
             }
            ],
            "label": "NY",
            "method": "update"
           },
           {
            "args": [
             {
              "visible": [
               true,
               true,
               true,
               false
              ]
             },
             {
              "title": "Search results in WA, CA, NY"
             }
            ],
            "label": "WA, CA, NY",
            "method": "update"
           },
           {
            "args": [
             {
              "visible": [
               true,
               false,
               false,
               true
              ]
             },
             {
              "title": "USA (normalized) compared to WA"
             }
            ],
            "label": "USA (normalized) compared to WA",
            "method": "update"
           }
          ],
          "type": "buttons"
         }
        ],
        "xaxis": {
         "tickmode": "array",
         "ticktext": [
          "19/12/1",
          "19/12/8",
          "19/12/15",
          "19/12/22",
          "19/12/29",
          "20/01/6",
          "20/01/13",
          "20/01/20",
          "20/01/27",
          "20/02/3",
          "20/02/10",
          "20/02/17",
          "20/02/24"
         ],
         "tickvals": [
          1,
          8,
          15,
          22,
          29,
          36,
          43,
          50,
          57,
          64,
          71,
          78,
          85
         ]
        }
       }
      },
      "text/html": [
       "<div>\n",
       "        \n",
       "        \n",
       "            <div id=\"22e99731-2e9c-44f5-b01c-ad329a781e18\" class=\"plotly-graph-div\" style=\"height:525px; width:100%;\"></div>\n",
       "            <script type=\"text/javascript\">\n",
       "                require([\"plotly\"], function(Plotly) {\n",
       "                    window.PLOTLYENV=window.PLOTLYENV || {};\n",
       "                    \n",
       "                if (document.getElementById(\"22e99731-2e9c-44f5-b01c-ad329a781e18\")) {\n",
       "                    Plotly.newPlot(\n",
       "                        '22e99731-2e9c-44f5-b01c-ad329a781e18',\n",
       "                        [{\"marker\": {\"color\": \"Purple\"}, \"name\": \"WA\", \"type\": \"scatter\", \"x\": [\"19/12/1\", \"19/12/2\", \"19/12/3\", \"19/12/4\", \"19/12/5\", \"19/12/6\", \"19/12/7\", \"19/12/8\", \"19/12/9\", \"19/12/10\", \"19/12/11\", \"19/12/12\", \"19/12/13\", \"19/12/14\", \"19/12/15\", \"19/12/16\", \"19/12/17\", \"19/12/18\", \"19/12/19\", \"19/12/20\", \"19/12/21\", \"19/12/22\", \"19/12/23\", \"19/12/24\", \"19/12/25\", \"19/12/26\", \"19/12/27\", \"19/12/28\", \"19/12/29\", \"19/12/30\", \"19/12/31\", \"20/01/1\", \"20/01/2\", \"20/01/3\", \"20/01/4\", \"20/01/5\", \"20/01/6\", \"20/01/7\", \"20/01/8\", \"20/01/9\", \"20/01/10\", \"20/01/11\", \"20/01/12\", \"20/01/13\", \"20/01/14\", \"20/01/15\", \"20/01/16\", \"20/01/17\", \"20/01/18\", \"20/01/19\", \"20/01/20\", \"20/01/21\", \"20/01/22\", \"20/01/23\", \"20/01/24\", \"20/01/25\", \"20/01/26\", \"20/01/27\", \"20/01/28\", \"20/01/29\", \"20/01/30\", \"20/01/31\", \"20/02/1\", \"20/02/2\", \"20/02/3\", \"20/02/4\", \"20/02/5\", \"20/02/6\", \"20/02/7\", \"20/02/8\", \"20/02/9\", \"20/02/10\", \"20/02/11\", \"20/02/12\", \"20/02/13\", \"20/02/14\", \"20/02/15\", \"20/02/16\", \"20/02/17\", \"20/02/18\", \"20/02/19\", \"20/02/20\", \"20/02/21\", \"20/02/22\", \"20/02/23\", \"20/02/24\", \"20/02/25\", \"20/02/26\", \"20/02/27\", \"20/02/28\", \"20/02/29\"], \"y\": [197, 340, 147, 178, 164, 43, 184, 244, 148, 149, 272, 126, 280, 174, 337, 219, 379, 154, 244, 227, 279, 166, 113, 222, 123, 333, 123, 308, 174, 66, 267, 357, 547, 684, 866, 490, 658, 10, 3, 4, 19, 9, 143, 41, 484, 1123, 734, 1017, 1236, 1468, 1683, 1788, 1669, 334, 1628, 1759, 287, 500, 458, 378, 322, 773, 1940, 1540, 1536, 1337, 1531, 1281, 1540, 1403, 1513, 1538, 1358, 1665, 1624, 1517, 1162, 1222, 760, 0, 0, 0, 0, 0, 1639, 1452, 1336, 1359, 1511, 1717, 1494]}, {\"marker\": {\"color\": \"Blue\"}, \"name\": \"CA\", \"type\": \"scatter\", \"x\": [\"19/12/1\", \"19/12/2\", \"19/12/3\", \"19/12/4\", \"19/12/5\", \"19/12/6\", \"19/12/7\", \"19/12/8\", \"19/12/9\", \"19/12/10\", \"19/12/11\", \"19/12/12\", \"19/12/13\", \"19/12/14\", \"19/12/15\", \"19/12/16\", \"19/12/17\", \"19/12/18\", \"19/12/19\", \"19/12/20\", \"19/12/21\", \"19/12/22\", \"19/12/23\", \"19/12/24\", \"19/12/25\", \"19/12/26\", \"19/12/27\", \"19/12/28\", \"19/12/29\", \"19/12/30\", \"19/12/31\", \"20/01/1\", \"20/01/2\", \"20/01/3\", \"20/01/4\", \"20/01/5\", \"20/01/6\", \"20/01/7\", \"20/01/8\", \"20/01/9\", \"20/01/10\", \"20/01/11\", \"20/01/12\", \"20/01/13\", \"20/01/14\", \"20/01/15\", \"20/01/16\", \"20/01/17\", \"20/01/18\", \"20/01/19\", \"20/01/20\", \"20/01/21\", \"20/01/22\", \"20/01/23\", \"20/01/24\", \"20/01/25\", \"20/01/26\", \"20/01/27\", \"20/01/28\", \"20/01/29\", \"20/01/30\", \"20/01/31\", \"20/02/1\", \"20/02/2\", \"20/02/3\", \"20/02/4\", \"20/02/5\", \"20/02/6\", \"20/02/7\", \"20/02/8\", \"20/02/9\", \"20/02/10\", \"20/02/11\", \"20/02/12\", \"20/02/13\", \"20/02/14\", \"20/02/15\", \"20/02/16\", \"20/02/17\", \"20/02/18\", \"20/02/19\", \"20/02/20\", \"20/02/21\", \"20/02/22\", \"20/02/23\", \"20/02/24\", \"20/02/25\", \"20/02/26\", \"20/02/27\", \"20/02/28\", \"20/02/29\"], \"y\": [489, 397, 301, 237, 262, 318, 556, 544, 493, 766, 662, 314, 602, 495, 358, 303, 460, 265, 411, 496, 592, 490, 365, 498, 383, 310, 438, 457, 643, 211, 250, 258, 504, 633, 747, 608, 632, 21, 25, 39, 93, 55, 735, 155, 758, 389, 429, 715, 880, 1491, 1361, 1571, 1764, 819, 1580, 1570, 775, 544, 618, 645, 231, 813, 1838, 1442, 1593, 1272, 1414, 1162, 1691, 1526, 1596, 1547, 1397, 1439, 1279, 1489, 1465, 1506, 895, 0, 0, 0, 0, 0, 1435, 1220, 1114, 1085, 1186, 1813, 1502]}, {\"marker\": {\"color\": \"Green\"}, \"name\": \"NY\", \"type\": \"scatter\", \"x\": [\"19/12/1\", \"19/12/2\", \"19/12/3\", \"19/12/4\", \"19/12/5\", \"19/12/6\", \"19/12/7\", \"19/12/8\", \"19/12/9\", \"19/12/10\", \"19/12/11\", \"19/12/12\", \"19/12/13\", \"19/12/14\", \"19/12/15\", \"19/12/16\", \"19/12/17\", \"19/12/18\", \"19/12/19\", \"19/12/20\", \"19/12/21\", \"19/12/22\", \"19/12/23\", \"19/12/24\", \"19/12/25\", \"19/12/26\", \"19/12/27\", \"19/12/28\", \"19/12/29\", \"19/12/30\", \"19/12/31\", \"20/01/1\", \"20/01/2\", \"20/01/3\", \"20/01/4\", \"20/01/5\", \"20/01/6\", \"20/01/7\", \"20/01/8\", \"20/01/9\", \"20/01/10\", \"20/01/11\", \"20/01/12\", \"20/01/13\", \"20/01/14\", \"20/01/15\", \"20/01/16\", \"20/01/17\", \"20/01/18\", \"20/01/19\", \"20/01/20\", \"20/01/21\", \"20/01/22\", \"20/01/23\", \"20/01/24\", \"20/01/25\", \"20/01/26\", \"20/01/27\", \"20/01/28\", \"20/01/29\", \"20/01/30\", \"20/01/31\", \"20/02/1\", \"20/02/2\", \"20/02/3\", \"20/02/4\", \"20/02/5\", \"20/02/6\", \"20/02/7\", \"20/02/8\", \"20/02/9\", \"20/02/10\", \"20/02/11\", \"20/02/12\", \"20/02/13\", \"20/02/14\", \"20/02/15\", \"20/02/16\", \"20/02/17\", \"20/02/18\", \"20/02/19\", \"20/02/20\", \"20/02/21\", \"20/02/22\", \"20/02/23\", \"20/02/24\", \"20/02/25\", \"20/02/26\", \"20/02/27\", \"20/02/28\", \"20/02/29\"], \"y\": [249, 299, 500, 486, 504, 388, 288, 261, 342, 715, 482, 113, 564, 478, 452, 369, 496, 224, 446, 387, 660, 424, 253, 330, 384, 329, 445, 433, 362, 267, 229, 412, 419, 673, 671, 621, 571, 13, 11, 26, 50, 27, 452, 113, 654, 514, 547, 925, 1386, 1481, 1632, 1951, 1653, 419, 1583, 1573, 581, 321, 601, 531, 288, 901, 1437, 1664, 1636, 1354, 1490, 1192, 1190, 1408, 1394, 1494, 1379, 1667, 1193, 1258, 871, 1165, 800, 0, 0, 0, 0, 0, 1541, 1326, 1083, 1039, 1121, 1613, 1655]}, {\"marker\": {\"color\": \"Black\"}, \"name\": \"USA\", \"type\": \"scatter\", \"x\": [\"19/12/1\", \"19/12/2\", \"19/12/3\", \"19/12/4\", \"19/12/5\", \"19/12/6\", \"19/12/7\", \"19/12/8\", \"19/12/9\", \"19/12/10\", \"19/12/11\", \"19/12/12\", \"19/12/13\", \"19/12/14\", \"19/12/15\", \"19/12/16\", \"19/12/17\", \"19/12/18\", \"19/12/19\", \"19/12/20\", \"19/12/21\", \"19/12/22\", \"19/12/23\", \"19/12/24\", \"19/12/25\", \"19/12/26\", \"19/12/27\", \"19/12/28\", \"19/12/29\", \"19/12/30\", \"19/12/31\", \"20/01/1\", \"20/01/2\", \"20/01/3\", \"20/01/4\", \"20/01/5\", \"20/01/6\", \"20/01/7\", \"20/01/8\", \"20/01/9\", \"20/01/10\", \"20/01/11\", \"20/01/12\", \"20/01/13\", \"20/01/14\", \"20/01/15\", \"20/01/16\", \"20/01/17\", \"20/01/18\", \"20/01/19\", \"20/01/20\", \"20/01/21\", \"20/01/22\", \"20/01/23\", \"20/01/24\", \"20/01/25\", \"20/01/26\", \"20/01/27\", \"20/01/28\", \"20/01/29\", \"20/01/30\", \"20/01/31\", \"20/02/1\", \"20/02/2\", \"20/02/3\", \"20/02/4\", \"20/02/5\", \"20/02/6\", \"20/02/7\", \"20/02/8\", \"20/02/9\", \"20/02/10\", \"20/02/11\", \"20/02/12\", \"20/02/13\", \"20/02/14\", \"20/02/15\", \"20/02/16\", \"20/02/17\", \"20/02/18\", \"20/02/19\", \"20/02/20\", \"20/02/21\", \"20/02/22\", \"20/02/23\", \"20/02/24\", \"20/02/25\", \"20/02/26\", \"20/02/27\", \"20/02/28\", \"20/02/29\"], \"y\": [118.2161884572405, 182.8854650328965, 201.96243232462666, 195.36879418320456, 191.89598832935945, 136.9411821827026, 143.48789051528894, 164.30126073394166, 211.18413976085046, 201.04730105232963, 236.7843504807491, 127.48482570230006, 230.70694023652018, 206.93699206121556, 150.50389693623276, 186.6867795485918, 218.71637407898746, 122.34601163478604, 199.0527841768105, 252.31811720538056, 260.319649611875, 253.77294127928863, 150.26924789205404, 263.628201134795, 268.2507873051158, 171.41112677255697, 159.279771188517, 188.0477440048284, 168.0087156319655, 138.32561154335704, 160.17143755639614, 172.138538809511, 339.32598278685094, 487.6007138033858, 474.9296654177348, 416.1266149465469, 432.0592850462822, 18.114906210597393, 18.2791605415225, 28.814902625147152, 54.57936767597091, 37.56731197301351, 253.11592395558822, 154.0236325989136, 791.0488577353101, 597.8622996629676, 592.277652411514, 1176.0844743281762, 1443.3262707433234, 1602.699901549512, 1710.4976724452172, 1880.5009049527018, 1901.8305030685478, 298.61437362184256, 1813.766716788273, 1774.0406336088154, 284.1834574048511, 242.86176072497804, 281.1564847349456, 291.7860864362417, 234.32053551687252, 556.0713048947372, 1995.8074452621263, 1627.9716036075604, 1669.1525108609262, 1443.8894284493524, 1636.536293720084, 1348.08222371118, 1662.019179917893, 1569.3093425628797, 1710.4272777319636, 1656.1294889090073, 1471.8595945154561, 1793.1645307093813, 1351.8366084180395, 1395.7863743927144, 1322.763591844296, 1465.9229736977345, 941.9751229510646, 0.0, 0.0, 0.0, 0.0, 0.0, 1552.907374374787, 1377.8122576086241, 1275.9745724350585, 1362.5131399281713, 1498.7973047871735, 1895.8469524419902, 1580.5959615878762]}],\n",
       "                        {\"annotations\": [{\"align\": \"left\", \"font\": {\"family\": \"Courier New, monospace\", \"size\": 12}, \"showarrow\": true, \"text\": \"First case in Wuhan, China\", \"textangle\": -45, \"x\": \"19/12/31\", \"y\": 1, \"yref\": \"paper\"}, {\"align\": \"left\", \"font\": {\"family\": \"Courier New, monospace\", \"size\": 12}, \"showarrow\": true, \"text\": \"First case in WA, USA\", \"textangle\": -45, \"x\": \"20/01/21\", \"y\": 1, \"yref\": \"paper\"}, {\"align\": \"left\", \"font\": {\"family\": \"Courier New, monospace\", \"size\": 12}, \"showarrow\": true, \"text\": \"First death in WA, USA\", \"textangle\": -45, \"x\": \"20/02/29\", \"y\": 1, \"yref\": \"paper\"}], \"showlegend\": true, \"template\": {\"data\": {\"bar\": [{\"error_x\": {\"color\": \"#2a3f5f\"}, \"error_y\": {\"color\": \"#2a3f5f\"}, \"marker\": {\"line\": {\"color\": \"#E5ECF6\", \"width\": 0.5}}, \"type\": \"bar\"}], \"barpolar\": [{\"marker\": {\"line\": {\"color\": \"#E5ECF6\", \"width\": 0.5}}, \"type\": \"barpolar\"}], \"carpet\": [{\"aaxis\": {\"endlinecolor\": \"#2a3f5f\", \"gridcolor\": \"white\", \"linecolor\": \"white\", \"minorgridcolor\": \"white\", \"startlinecolor\": \"#2a3f5f\"}, \"baxis\": {\"endlinecolor\": \"#2a3f5f\", \"gridcolor\": \"white\", \"linecolor\": \"white\", \"minorgridcolor\": \"white\", \"startlinecolor\": \"#2a3f5f\"}, \"type\": \"carpet\"}], \"choropleth\": [{\"colorbar\": {\"outlinewidth\": 0, \"ticks\": \"\"}, \"type\": \"choropleth\"}], \"contour\": [{\"colorbar\": {\"outlinewidth\": 0, \"ticks\": \"\"}, \"colorscale\": [[0.0, \"#0d0887\"], [0.1111111111111111, \"#46039f\"], [0.2222222222222222, \"#7201a8\"], [0.3333333333333333, \"#9c179e\"], [0.4444444444444444, \"#bd3786\"], [0.5555555555555556, \"#d8576b\"], [0.6666666666666666, \"#ed7953\"], [0.7777777777777778, \"#fb9f3a\"], [0.8888888888888888, \"#fdca26\"], [1.0, \"#f0f921\"]], \"type\": \"contour\"}], \"contourcarpet\": [{\"colorbar\": {\"outlinewidth\": 0, \"ticks\": \"\"}, \"type\": \"contourcarpet\"}], \"heatmap\": [{\"colorbar\": {\"outlinewidth\": 0, \"ticks\": \"\"}, \"colorscale\": [[0.0, \"#0d0887\"], [0.1111111111111111, \"#46039f\"], [0.2222222222222222, \"#7201a8\"], [0.3333333333333333, \"#9c179e\"], [0.4444444444444444, \"#bd3786\"], [0.5555555555555556, \"#d8576b\"], [0.6666666666666666, \"#ed7953\"], [0.7777777777777778, \"#fb9f3a\"], [0.8888888888888888, \"#fdca26\"], [1.0, \"#f0f921\"]], \"type\": \"heatmap\"}], \"heatmapgl\": [{\"colorbar\": {\"outlinewidth\": 0, \"ticks\": \"\"}, \"colorscale\": [[0.0, \"#0d0887\"], [0.1111111111111111, \"#46039f\"], [0.2222222222222222, \"#7201a8\"], [0.3333333333333333, \"#9c179e\"], [0.4444444444444444, \"#bd3786\"], [0.5555555555555556, \"#d8576b\"], [0.6666666666666666, \"#ed7953\"], [0.7777777777777778, \"#fb9f3a\"], [0.8888888888888888, \"#fdca26\"], [1.0, \"#f0f921\"]], \"type\": \"heatmapgl\"}], \"histogram\": [{\"marker\": {\"colorbar\": {\"outlinewidth\": 0, \"ticks\": \"\"}}, \"type\": \"histogram\"}], \"histogram2d\": [{\"colorbar\": {\"outlinewidth\": 0, \"ticks\": \"\"}, \"colorscale\": [[0.0, \"#0d0887\"], [0.1111111111111111, \"#46039f\"], [0.2222222222222222, \"#7201a8\"], [0.3333333333333333, \"#9c179e\"], [0.4444444444444444, \"#bd3786\"], [0.5555555555555556, \"#d8576b\"], [0.6666666666666666, \"#ed7953\"], [0.7777777777777778, \"#fb9f3a\"], [0.8888888888888888, \"#fdca26\"], [1.0, \"#f0f921\"]], \"type\": \"histogram2d\"}], \"histogram2dcontour\": [{\"colorbar\": {\"outlinewidth\": 0, \"ticks\": \"\"}, \"colorscale\": [[0.0, \"#0d0887\"], [0.1111111111111111, \"#46039f\"], [0.2222222222222222, \"#7201a8\"], [0.3333333333333333, \"#9c179e\"], [0.4444444444444444, \"#bd3786\"], [0.5555555555555556, \"#d8576b\"], [0.6666666666666666, \"#ed7953\"], [0.7777777777777778, \"#fb9f3a\"], [0.8888888888888888, \"#fdca26\"], [1.0, \"#f0f921\"]], \"type\": \"histogram2dcontour\"}], \"mesh3d\": [{\"colorbar\": {\"outlinewidth\": 0, \"ticks\": \"\"}, \"type\": \"mesh3d\"}], \"parcoords\": [{\"line\": {\"colorbar\": {\"outlinewidth\": 0, \"ticks\": \"\"}}, \"type\": \"parcoords\"}], \"pie\": [{\"automargin\": true, \"type\": \"pie\"}], \"scatter\": [{\"marker\": {\"colorbar\": {\"outlinewidth\": 0, \"ticks\": \"\"}}, \"type\": \"scatter\"}], \"scatter3d\": [{\"line\": {\"colorbar\": {\"outlinewidth\": 0, \"ticks\": \"\"}}, \"marker\": {\"colorbar\": {\"outlinewidth\": 0, \"ticks\": \"\"}}, \"type\": \"scatter3d\"}], \"scattercarpet\": [{\"marker\": {\"colorbar\": {\"outlinewidth\": 0, \"ticks\": \"\"}}, \"type\": \"scattercarpet\"}], \"scattergeo\": [{\"marker\": {\"colorbar\": {\"outlinewidth\": 0, \"ticks\": \"\"}}, \"type\": \"scattergeo\"}], \"scattergl\": [{\"marker\": {\"colorbar\": {\"outlinewidth\": 0, \"ticks\": \"\"}}, \"type\": \"scattergl\"}], \"scattermapbox\": [{\"marker\": {\"colorbar\": {\"outlinewidth\": 0, \"ticks\": \"\"}}, \"type\": \"scattermapbox\"}], \"scatterpolar\": [{\"marker\": {\"colorbar\": {\"outlinewidth\": 0, \"ticks\": \"\"}}, \"type\": \"scatterpolar\"}], \"scatterpolargl\": [{\"marker\": {\"colorbar\": {\"outlinewidth\": 0, \"ticks\": \"\"}}, \"type\": \"scatterpolargl\"}], \"scatterternary\": [{\"marker\": {\"colorbar\": {\"outlinewidth\": 0, \"ticks\": \"\"}}, \"type\": \"scatterternary\"}], \"surface\": [{\"colorbar\": {\"outlinewidth\": 0, \"ticks\": \"\"}, \"colorscale\": [[0.0, \"#0d0887\"], [0.1111111111111111, \"#46039f\"], [0.2222222222222222, \"#7201a8\"], [0.3333333333333333, \"#9c179e\"], [0.4444444444444444, \"#bd3786\"], [0.5555555555555556, \"#d8576b\"], [0.6666666666666666, \"#ed7953\"], [0.7777777777777778, \"#fb9f3a\"], [0.8888888888888888, \"#fdca26\"], [1.0, \"#f0f921\"]], \"type\": \"surface\"}], \"table\": [{\"cells\": {\"fill\": {\"color\": \"#EBF0F8\"}, \"line\": {\"color\": \"white\"}}, \"header\": {\"fill\": {\"color\": \"#C8D4E3\"}, \"line\": {\"color\": \"white\"}}, \"type\": \"table\"}]}, \"layout\": {\"annotationdefaults\": {\"arrowcolor\": \"#2a3f5f\", \"arrowhead\": 0, \"arrowwidth\": 1}, \"coloraxis\": {\"colorbar\": {\"outlinewidth\": 0, \"ticks\": \"\"}}, \"colorscale\": {\"diverging\": [[0, \"#8e0152\"], [0.1, \"#c51b7d\"], [0.2, \"#de77ae\"], [0.3, \"#f1b6da\"], [0.4, \"#fde0ef\"], [0.5, \"#f7f7f7\"], [0.6, \"#e6f5d0\"], [0.7, \"#b8e186\"], [0.8, \"#7fbc41\"], [0.9, \"#4d9221\"], [1, \"#276419\"]], \"sequential\": [[0.0, \"#0d0887\"], [0.1111111111111111, \"#46039f\"], [0.2222222222222222, \"#7201a8\"], [0.3333333333333333, \"#9c179e\"], [0.4444444444444444, \"#bd3786\"], [0.5555555555555556, \"#d8576b\"], [0.6666666666666666, \"#ed7953\"], [0.7777777777777778, \"#fb9f3a\"], [0.8888888888888888, \"#fdca26\"], [1.0, \"#f0f921\"]], \"sequentialminus\": [[0.0, \"#0d0887\"], [0.1111111111111111, \"#46039f\"], [0.2222222222222222, \"#7201a8\"], [0.3333333333333333, \"#9c179e\"], [0.4444444444444444, \"#bd3786\"], [0.5555555555555556, \"#d8576b\"], [0.6666666666666666, \"#ed7953\"], [0.7777777777777778, \"#fb9f3a\"], [0.8888888888888888, \"#fdca26\"], [1.0, \"#f0f921\"]]}, \"colorway\": [\"#636efa\", \"#EF553B\", \"#00cc96\", \"#ab63fa\", \"#FFA15A\", \"#19d3f3\", \"#FF6692\", \"#B6E880\", \"#FF97FF\", \"#FECB52\"], \"font\": {\"color\": \"#2a3f5f\"}, \"geo\": {\"bgcolor\": \"white\", \"lakecolor\": \"white\", \"landcolor\": \"#E5ECF6\", \"showlakes\": true, \"showland\": true, \"subunitcolor\": \"white\"}, \"hoverlabel\": {\"align\": \"left\"}, \"hovermode\": \"closest\", \"mapbox\": {\"style\": \"light\"}, \"paper_bgcolor\": \"white\", \"plot_bgcolor\": \"#E5ECF6\", \"polar\": {\"angularaxis\": {\"gridcolor\": \"white\", \"linecolor\": \"white\", \"ticks\": \"\"}, \"bgcolor\": \"#E5ECF6\", \"radialaxis\": {\"gridcolor\": \"white\", \"linecolor\": \"white\", \"ticks\": \"\"}}, \"scene\": {\"xaxis\": {\"backgroundcolor\": \"#E5ECF6\", \"gridcolor\": \"white\", \"gridwidth\": 2, \"linecolor\": \"white\", \"showbackground\": true, \"ticks\": \"\", \"zerolinecolor\": \"white\"}, \"yaxis\": {\"backgroundcolor\": \"#E5ECF6\", \"gridcolor\": \"white\", \"gridwidth\": 2, \"linecolor\": \"white\", \"showbackground\": true, \"ticks\": \"\", \"zerolinecolor\": \"white\"}, \"zaxis\": {\"backgroundcolor\": \"#E5ECF6\", \"gridcolor\": \"white\", \"gridwidth\": 2, \"linecolor\": \"white\", \"showbackground\": true, \"ticks\": \"\", \"zerolinecolor\": \"white\"}}, \"shapedefaults\": {\"line\": {\"color\": \"#2a3f5f\"}}, \"ternary\": {\"aaxis\": {\"gridcolor\": \"white\", \"linecolor\": \"white\", \"ticks\": \"\"}, \"baxis\": {\"gridcolor\": \"white\", \"linecolor\": \"white\", \"ticks\": \"\"}, \"bgcolor\": \"#E5ECF6\", \"caxis\": {\"gridcolor\": \"white\", \"linecolor\": \"white\", \"ticks\": \"\"}}, \"title\": {\"x\": 0.05}, \"xaxis\": {\"automargin\": true, \"gridcolor\": \"white\", \"linecolor\": \"white\", \"ticks\": \"\", \"title\": {\"standoff\": 15}, \"zerolinecolor\": \"white\", \"zerolinewidth\": 2}, \"yaxis\": {\"automargin\": true, \"gridcolor\": \"white\", \"linecolor\": \"white\", \"ticks\": \"\", \"title\": {\"standoff\": 15}, \"zerolinecolor\": \"white\", \"zerolinewidth\": 2}}}, \"title\": {\"text\": \"Coronavirus search on Google\"}, \"updatemenus\": [{\"buttons\": [{\"args\": [{\"visible\": [false, false, false, true]}, {\"title\": \"Search results in all US\"}], \"label\": \"All USA\", \"method\": \"update\"}, {\"args\": [{\"visible\": [true, false, false, false]}, {\"title\": \"Search results in WA\"}], \"label\": \"WA\", \"method\": \"update\"}, {\"args\": [{\"visible\": [false, true, false, false]}, {\"title\": \"Search results in CA\"}], \"label\": \"CA\", \"method\": \"update\"}, {\"args\": [{\"visible\": [false, false, true, false]}, {\"title\": \"Search results in NY\"}], \"label\": \"NY\", \"method\": \"update\"}, {\"args\": [{\"visible\": [true, true, true, false]}, {\"title\": \"Search results in WA, CA, NY\"}], \"label\": \"WA, CA, NY\", \"method\": \"update\"}, {\"args\": [{\"visible\": [true, false, false, true]}, {\"title\": \"USA (normalized) compared to WA\"}], \"label\": \"USA (normalized) compared to WA\", \"method\": \"update\"}], \"type\": \"buttons\"}], \"xaxis\": {\"tickmode\": \"array\", \"ticktext\": [\"19/12/1\", \"19/12/8\", \"19/12/15\", \"19/12/22\", \"19/12/29\", \"20/01/6\", \"20/01/13\", \"20/01/20\", \"20/01/27\", \"20/02/3\", \"20/02/10\", \"20/02/17\", \"20/02/24\"], \"tickvals\": [1, 8, 15, 22, 29, 36, 43, 50, 57, 64, 71, 78, 85]}},\n",
       "                        {\"responsive\": true}\n",
       "                    ).then(function(){\n",
       "                            \n",
       "var gd = document.getElementById('22e99731-2e9c-44f5-b01c-ad329a781e18');\n",
       "var x = new MutationObserver(function (mutations, observer) {{\n",
       "        var display = window.getComputedStyle(gd).display;\n",
       "        if (!display || display === 'none') {{\n",
       "            console.log([gd, 'removed!']);\n",
       "            Plotly.purge(gd);\n",
       "            observer.disconnect();\n",
       "        }}\n",
       "}});\n",
       "\n",
       "// Listen for the removal of the full notebook cells\n",
       "var notebookContainer = gd.closest('#notebook-container');\n",
       "if (notebookContainer) {{\n",
       "    x.observe(notebookContainer, {childList: true});\n",
       "}}\n",
       "\n",
       "// Listen for the clearing of the current output cell\n",
       "var outputEl = gd.closest('.output');\n",
       "if (outputEl) {{\n",
       "    x.observe(outputEl, {childList: true});\n",
       "}}\n",
       "\n",
       "                        })\n",
       "                };\n",
       "                });\n",
       "            </script>\n",
       "        </div>"
      ]
     },
     "metadata": {},
     "output_type": "display_data"
    }
   ],
   "source": [
    "scale = usa.results.sum() / df[df.state == 'US-WA'].results.sum()\n",
    "\n",
    "x = df.day.unique()\n",
    "y0 = df[df.state == 'US-WA'].groupby('day').results.sum()\n",
    "y1 = df[df.state == 'US-CA'].groupby('day').results.sum()\n",
    "y2 = df[df.state == 'US-NY'].groupby('day').results.sum()\n",
    "y3 = usa.groupby('day').results.sum()/ scale\n",
    "\n",
    "\n",
    "# Create figure\n",
    "fig = go.Figure()\n",
    "\n",
    "# Add traces\n",
    "fig.add_trace(\n",
    "    go.Scatter(\n",
    "        x=x,\n",
    "        y=y0,      \n",
    "        marker=dict(color=\"Purple\"),\n",
    "        name = 'WA'\n",
    "    )\n",
    ")\n",
    "\n",
    "fig.add_trace(\n",
    "    go.Scatter(\n",
    "        x=x,\n",
    "        y=y1,\n",
    "        marker=dict(color= \"Blue\"),\n",
    "        name = 'CA'\n",
    "    )\n",
    ")\n",
    "\n",
    "fig.add_trace(\n",
    "    go.Scatter(\n",
    "        x=x,\n",
    "        y=y2,\n",
    "        marker=dict(color=\"Green\"),\n",
    "        name = 'NY'\n",
    "    )\n",
    ")\n",
    "\n",
    "fig.add_trace(\n",
    "    go.Scatter(\n",
    "        x=x,\n",
    "        y=y3,\n",
    "        marker=dict(color=\"Black\"),\n",
    "        name = 'USA'\n",
    "    )\n",
    ")\n",
    "\n",
    "fig.update_layout(\n",
    "    title_text= \"Coronavirus search on Google\",\n",
    "    showlegend= True,\n",
    "\n",
    "        \n",
    "    xaxis = dict(\n",
    "        tickmode = 'array',\n",
    "        tickvals = [1, 8, 15, 22, 29, 36, 43, 50, 57, 64, 71, 78, 85],\n",
    "        ticktext = ['19/12/1', '19/12/8','19/12/15','19/12/22','19/12/29','20/01/6','20/01/13', '20/01/20', '20/01/27', \n",
    "               '20/02/3', '20/02/10', '20/02/17', '20/02/24']\n",
    "    ),\n",
    "    \n",
    "    annotations=[\n",
    "        dict(text= 'First case in Wuhan, China', showarrow=True,\n",
    "            font=dict(\n",
    "            family=\"Courier New, monospace\",\n",
    "            size=12\n",
    "            ), textangle=-45,\n",
    "                             x='19/12/31', y=1, yref=\"paper\", align=\"left\"),\n",
    "        dict(text= 'First case in WA, USA', showarrow=True,\n",
    "             font=dict(\n",
    "            family=\"Courier New, monospace\",\n",
    "            size=12\n",
    "            ), textangle=-45,\n",
    "                             x='20/01/21', y=1, yref=\"paper\", align=\"left\"),\n",
    "        dict(text= 'First death in WA, USA', showarrow=True,\n",
    "             font=dict(\n",
    "            family=\"Courier New, monospace\",\n",
    "            size=12\n",
    "            ),textangle=-45,\n",
    "                             x='20/02/29', y=1, yref=\"paper\", align=\"left\")\n",
    "    ],\n",
    "      \n",
    "    updatemenus=[\n",
    "        dict(\n",
    "            type=\"buttons\",\n",
    "            buttons=[\n",
    "                dict(label=\"All USA\",\n",
    "                     method=\"update\",\n",
    "                     args=[{\"visible\": [False, False, False, True]},\n",
    "                           {\"title\": \"Search results in all US\"}]),\n",
    "                dict(label=\"WA\",\n",
    "                     method=\"update\",\n",
    "                     args=[{\"visible\": [True, False, False, False]},\n",
    "                           {\"title\": \"Search results in WA\"}]),\n",
    "                dict(label=\"CA\",\n",
    "                     method=\"update\",\n",
    "                     args=[{\"visible\": [False, True, False, False]},\n",
    "                           {\"title\": \"Search results in CA\"}]),\n",
    "                dict(label=\"NY\",\n",
    "                     method=\"update\",\n",
    "                     args=[{\"visible\": [False, False, True, False]},\n",
    "                           {\"title\": \"Search results in NY\"}]),\n",
    "                dict(label=\"WA, CA, NY\",\n",
    "                     method=\"update\",\n",
    "                     args=[{\"visible\": [True, True, True, False]},\n",
    "                           {\"title\": \"Search results in WA, CA, NY\"}]),\n",
    "                dict(label=\"USA (normalized) compared to WA\",\n",
    "                     method=\"update\",\n",
    "                     args=[{\"visible\": [True, False, False, True]},\n",
    "                           {\"title\": \"USA (normalized) compared to WA\"}])\n",
    "            ]\n",
    "        )\n",
    "    ]\n",
    ")\n",
    "\n",
    "fig.show()"
   ]
  }
 ],
 "metadata": {
  "kernelspec": {
   "display_name": "Python 3",
   "language": "python",
   "name": "python3"
  },
  "language_info": {
   "codemirror_mode": {
    "name": "ipython",
    "version": 3
   },
   "file_extension": ".py",
   "mimetype": "text/x-python",
   "name": "python",
   "nbconvert_exporter": "python",
   "pygments_lexer": "ipython3",
   "version": "3.7.4"
  }
 },
 "nbformat": 4,
 "nbformat_minor": 2
}
